{
 "cells": [
  {
   "cell_type": "code",
   "execution_count": 2,
   "source": [
    "import numpy as np\r\n",
    "import matplotlib.pyplot as plt\r\n",
    "from helper_functions import sigmoid, sigmoid_backward, relu, relu_backward\r\n",
    "%matplotlib inline\r\n",
    "plt.rcParams['figure.figsize'] = (6.0, 5.0)"
   ],
   "outputs": [],
   "metadata": {}
  },
  {
   "cell_type": "code",
   "execution_count": 3,
   "source": [
    "def init_params_deep(dims_list):\r\n",
    "    \"\"\"\r\n",
    "    Initializes the parameters for a deep neural network\r\n",
    "    \r\n",
    "    Args:\r\n",
    "    dims_list -- list containing dimensions of each layer of the network\r\n",
    "\r\n",
    "    Returns:\r\n",
    "    parameters -- python dictionary with \"W1\", \"b1\", ...., \"WL\", \"bL\";\r\n",
    "        W1 -- weight matrix of shape (dims_list[l], dims_list[l-1])\r\n",
    "        b1 -- bias vector of shape(dims_list[l],1)\r\n",
    "\r\n",
    "    \"\"\"\r\n",
    "\r\n",
    "    parameters = {}\r\n",
    "    L = len(dims_list) # num of layers of network\r\n",
    "\r\n",
    "    for l in range(1, L):\r\n",
    "        parameters['W' + str(l)] = np.random.randn(dims_list[l], dims_list[l-1]) * 0.01\r\n",
    "        parameters['b' + str(l)] = np.zeros((dims_list[l], 1))\r\n",
    "\r\n",
    "        assert ( parameters['W' + str(l)].shape  == (dims_list[l], dims_list[l-1]) )\r\n",
    "        assert ( parameters['b' + str(l)].shape  == (dims_list[l], 1) )\r\n",
    "\r\n",
    "    return parameters\r\n",
    "\r\n",
    "\r\n"
   ],
   "outputs": [],
   "metadata": {}
  },
  {
   "cell_type": "code",
   "execution_count": 4,
   "source": [
    "def linear_forward(A, W, b):\r\n",
    "    \"\"\"\r\n",
    "    Implementation of the linear part of a layer's forward prop\r\n",
    "\r\n",
    "    Arguments:\r\n",
    "    A -- activations from previous layer (or input data): (size of previous layer, number of examples)\r\n",
    "    W -- weights matrix: numpy array of shape (size of current layer, size of previous layer)\r\n",
    "    b -- bias vector, numpy array of shape (size of the current layer, 1)\r\n",
    "\r\n",
    "    Returns:\r\n",
    "    Z -- the input of the activation function, also called pre-activation parameter \r\n",
    "    cache -- a python tuple containing \"A\", \"W\" and \"b\" ; stored for computing the backward pass efficiently\r\n",
    "    \"\"\"\r\n",
    "   \r\n",
    "    Z = np.dot(W,A) + b\r\n",
    "    cache = (A, W, b)\r\n",
    "    \r\n",
    "    return Z, cache"
   ],
   "outputs": [],
   "metadata": {}
  },
  {
   "cell_type": "code",
   "execution_count": 5,
   "source": [
    "def linear_activation_forward(A_prev, W, b, activation):\r\n",
    "    \"\"\"\r\n",
    "    Implement the forward propagation for the LINEAR->ACTIVATION layer\r\n",
    "\r\n",
    "    Arguments:\r\n",
    "    \r\n",
    "    A_prev -- activations from previous layer (or input data): (size of previous layer, number of examples)\r\n",
    "    W -- weights matrix: numpy array of shape (size of current layer, size of previous layer)\r\n",
    "    b -- bias vector, numpy array of shape (size of the current layer, 1)\r\n",
    "    activation -- the activation to be used in this layer, stored as a text string: \"sigmoid\" or \"relu\"\r\n",
    "\r\n",
    "    Returns:\r\n",
    "    A -- the output of the activation function, also called the post-activation value \r\n",
    "    cache -- a python tuple containing \"linear_cache\" and \"activation_cache\";\r\n",
    "                stored for computing the backward pass efficiently\r\n",
    "    \r\n",
    "    \"\"\"\r\n",
    "\r\n",
    "    if activation == \"relu\":\r\n",
    "        Z, linear_cache = linear_forward(A_prev, W, b)\r\n",
    "        A, activation_cache = relu(Z)\r\n",
    "\r\n",
    "    elif activation == \"sigmoid\":\r\n",
    "        Z, linear_cache = linear_forward(A_prev, W, b)\r\n",
    "        A, activation_cache = sigmoid(Z)\r\n",
    "\r\n",
    "    cache = (linear_cache, activation_cache)\r\n",
    "\r\n",
    "    return A, cache"
   ],
   "outputs": [],
   "metadata": {}
  },
  {
   "cell_type": "code",
   "execution_count": null,
   "source": [],
   "outputs": [],
   "metadata": {}
  }
 ],
 "metadata": {
  "orig_nbformat": 4,
  "language_info": {
   "name": "python",
   "version": "3.8.3",
   "mimetype": "text/x-python",
   "codemirror_mode": {
    "name": "ipython",
    "version": 3
   },
   "pygments_lexer": "ipython3",
   "nbconvert_exporter": "python",
   "file_extension": ".py"
  },
  "kernelspec": {
   "name": "python3",
   "display_name": "Python 3.8.3 64-bit ('base': conda)"
  },
  "interpreter": {
   "hash": "954a9c2e9513789b5c7cbabd9d0637439eb00491ddc4a9eca02d2d88811af44d"
  }
 },
 "nbformat": 4,
 "nbformat_minor": 2
}