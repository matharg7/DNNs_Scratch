{
 "cells": [
  {
   "cell_type": "code",
   "execution_count": 1,
   "source": [
    "import numpy as np\r\n",
    "import cv2 \r\n",
    "import random\r\n",
    "import matplotlib.pyplot as plt\r\n",
    "import pickle\r\n",
    "import os"
   ],
   "outputs": [],
   "metadata": {}
  },
  {
   "cell_type": "code",
   "execution_count": 2,
   "source": [
    "DIRECTORY = r'dogs-cats-images\\dataset'\r\n",
    "print(DIRECTORY)\r\n",
    "SETS = ['training_set', 'test_set']\r\n",
    "CATEGORIES = ['cats', 'dogs']\r\n"
   ],
   "outputs": [
    {
     "output_type": "stream",
     "name": "stdout",
     "text": [
      "dogs-cats-images\\dataset\n"
     ]
    }
   ],
   "metadata": {}
  },
  {
   "cell_type": "code",
   "execution_count": 3,
   "source": [
    "IMG_SIZE = 64\r\n",
    "data_set = []\r\n",
    "\r\n",
    "for sets in SETS:\r\n",
    "    path = os.path.join(DIRECTORY, sets)\r\n",
    "    data = []\r\n",
    "    for category in CATEGORIES:\r\n",
    "        folder = os.path.join(path, category)\r\n",
    "        label = CATEGORIES.index(category)\r\n",
    "        for img in os.listdir(folder):\r\n",
    "            img_path = os.path.join(folder, img)\r\n",
    "            img_arr = cv2.imread(img_path)\r\n",
    "            img_arr = cv2.resize(img_arr, (IMG_SIZE, IMG_SIZE))\r\n",
    "            data.append([img_arr, label])\r\n",
    "    random.shuffle(data)\r\n",
    "    data_set.append(data)\r\n",
    "    "
   ],
   "outputs": [],
   "metadata": {}
  },
  {
   "cell_type": "code",
   "execution_count": 4,
   "source": [
    "train_x_orig, train_y, test_x_orig, test_y = [], [], [], []\r\n",
    "training = data_set[0]\r\n",
    "testing = data_set[1]\r\n",
    "for x, y in training:\r\n",
    "    train_x_orig.append(x)\r\n",
    "    train_y.append(y)\r\n",
    "\r\n",
    "for x, y in testing:\r\n",
    "    test_x_orig.append(x)\r\n",
    "    test_y.append(y)\r\n",
    "\r\n",
    "\r\n",
    "train_x_orig, train_y, test_x_orig, test_y = np.array(train_x_orig), np.reshape(np.array(train_y), (1, -1)), np.array(test_x_orig), np.reshape(np.array(test_y), (1, -1))"
   ],
   "outputs": [],
   "metadata": {}
  },
  {
   "cell_type": "code",
   "execution_count": 5,
   "source": [
    "m_train = train_x_orig.shape[0]\r\n",
    "num_px = train_x_orig.shape[1]\r\n",
    "m_test = test_x_orig.shape[0]\r\n",
    "\r\n",
    "print(\"Number of training examples: \"+str(m_train))\r\n",
    "print(\"Number of testing examples: \"+str(m_test))\r\n",
    "print(\"Each image is of size: (\"+str(num_px)+\", \"+str(num_px)+ \", 3)\")\r\n",
    "print(\"train_x_orig shape: \" + str(train_x_orig.shape))\r\n",
    "print(\"train_y shape: \"+str(train_y.shape))\r\n",
    "print(\"test_x_orig shape: \" + str(test_x_orig.shape))\r\n",
    "print(\"test_y shape: \"+str(test_y.shape))"
   ],
   "outputs": [
    {
     "output_type": "stream",
     "name": "stdout",
     "text": [
      "Number of training examples: 8000\n",
      "Number of testing examples: 2000\n",
      "Each image is of size: (64, 64, 3)\n",
      "train_x_orig shape: (8000, 64, 64, 3)\n",
      "train_y shape: (1, 8000)\n",
      "test_x_orig shape: (2000, 64, 64, 3)\n",
      "test_y shape: (1, 2000)\n"
     ]
    }
   ],
   "metadata": {}
  },
  {
   "cell_type": "code",
   "execution_count": 6,
   "source": [
    "idx = 7\r\n",
    "plt.imshow(train_x_orig[idx])"
   ],
   "outputs": [
    {
     "output_type": "execute_result",
     "data": {
      "text/plain": [
       "<matplotlib.image.AxesImage at 0x1eb768f7df0>"
      ]
     },
     "metadata": {},
     "execution_count": 6
    },
    {
     "output_type": "display_data",
     "data": {
      "text/plain": [
       "<Figure size 432x288 with 1 Axes>"
      ],
      "image/png": "[encoded data removed]"
     },
     "metadata": {
      "needs_background": "light"
     }
    }
   ],
   "metadata": {}
  },
  {
   "cell_type": "code",
   "execution_count": 7,
   "source": [
    "train_x_flatten = train_x_orig.reshape(train_x_orig.shape[0], -1).T\r\n",
    "test_x_flatten = test_x_orig.reshape(test_x_orig.shape[0], -1).T\r\n",
    "\r\n",
    "train_x = train_x_flatten / 255.\r\n",
    "test_x = test_x_flatten / 255.\r\n",
    "\r\n",
    "print(\"train_x shape: \"+str(train_x.shape))\r\n",
    "print(\"test_x shape: \"+str(test_x.shape))"
   ],
   "outputs": [
    {
     "output_type": "stream",
     "name": "stdout",
     "text": [
      "train_x shape: (12288, 8000)\n",
      "test_x shape: (12288, 2000)\n"
     ]
    }
   ],
   "metadata": {}
  },
  {
   "cell_type": "code",
   "execution_count": 8,
   "source": [
    "layers_dims = [12288, 20, 7, 5, 1]"
   ],
   "outputs": [],
   "metadata": {}
  },
  {
   "cell_type": "code",
   "execution_count": 12,
   "source": [
    "import import_ipynb\r\n",
    "from Building_blocks_DNN import *"
   ],
   "outputs": [],
   "metadata": {}
  },
  {
   "cell_type": "code",
   "execution_count": 13,
   "source": [
    "def L_layer_model(X, Y, layer_dims, learning_rate = 0.0075, num_iterations = 3000, print_cost = False):\r\n",
    "    \"\"\"\r\n",
    "    Implements a L-layer neural network: [LINEAR->RELU]*(L-1)->LINEAR->SIGMOID.\r\n",
    "    \r\n",
    "    Arguments:\r\n",
    "    X -- data, numpy array of shape (num_px * num_px * 3, number of examples)\r\n",
    "    Y -- true \"label\" vector (containing 0 if cat, 1 if non-cat), of shape (1, number of examples)\r\n",
    "    layers_dims -- list containing the input size and each layer size, of length (number of layers + 1).\r\n",
    "    learning_rate -- learning rate of the gradient descent update rule\r\n",
    "    num_iterations -- number of iterations of the optimization loop\r\n",
    "    print_cost -- if True, it prints the cost every 100 steps\r\n",
    "    \r\n",
    "    Returns:\r\n",
    "    parameters -- parameters learnt by the model. They can then be used to predict.\r\n",
    "    \"\"\"\r\n",
    "\r\n",
    "    costs = []\r\n",
    "    parameters = initialize_parameters_deep(layers_dims)\r\n",
    "    for i in range(0, num_iterations):\r\n",
    "        AL, caches = L_model_forward(X, parameters)\r\n",
    "        cost = compute_cost(AL, Y)\r\n",
    "        grads = L_model_backward(AL, Y, caches)\r\n",
    "\r\n",
    "        parameters = update_parameters(parameters, grads, learning_rate)\r\n",
    "\r\n",
    "        if print_cost and i % 100 == 0 or i == num_iterations -1:\r\n",
    "            print(\"Cost after iteration {}: {}\".format(i, np.squeeze(cost)))\r\n",
    "\r\n",
    "        if i % 100 == 0 or i == num_iterations:\r\n",
    "            costs.append(cost)\r\n",
    "\r\n",
    "    return parameters, costs\r\n",
    "\r\n",
    "    \r\n"
   ],
   "outputs": [],
   "metadata": {}
  },
  {
   "cell_type": "code",
   "execution_count": 16,
   "source": [
    "parameters, costs = L_layer_model(train_x, train_y, layers_dims, num_iterations = 2500, print_cost = True)\r\n"
   ],
   "outputs": [
    {
     "output_type": "stream",
     "name": "stdout",
     "text": [
      "Cost after iteration 0: 0.6931471436975198\n",
      "Cost after iteration 100: 0.6931471436080782\n",
      "Cost after iteration 200: 0.6931471435179293\n",
      "Cost after iteration 300: 0.6931471434395047\n",
      "Cost after iteration 400: 0.6931471433646205\n",
      "Cost after iteration 500: 0.6931471432874337\n",
      "Cost after iteration 600: 0.6931471432141756\n",
      "Cost after iteration 700: 0.69314714314397\n",
      "Cost after iteration 800: 0.6931471430785766\n",
      "Cost after iteration 900: 0.6931471430153194\n",
      "Cost after iteration 1000: 0.6931471429554383\n",
      "Cost after iteration 1100: 0.6931471428972551\n",
      "Cost after iteration 1200: 0.6931471428394211\n",
      "Cost after iteration 1300: 0.6931471427806676\n",
      "Cost after iteration 1400: 0.6931471427230103\n",
      "Cost after iteration 1500: 0.6931471426665426\n",
      "Cost after iteration 1600: 0.6931471426108049\n",
      "Cost after iteration 1700: 0.6931471425547459\n",
      "Cost after iteration 1800: 0.693147142500233\n",
      "Cost after iteration 1900: 0.6931471424471117\n",
      "Cost after iteration 2000: 0.6931471423954594\n",
      "Cost after iteration 2100: 0.6931471423446721\n",
      "Cost after iteration 2200: 0.6931471422942435\n",
      "Cost after iteration 2300: 0.6931471422437191\n",
      "Cost after iteration 2400: 0.6931471421929438\n",
      "Cost after iteration 2499: 0.693147142143278\n"
     ]
    }
   ],
   "metadata": {}
  },
  {
   "cell_type": "code",
   "execution_count": 17,
   "source": [
    "import import_ipynb\r\n",
    "from Building_blocks_DNN import *"
   ],
   "outputs": [],
   "metadata": {}
  },
  {
   "cell_type": "code",
   "execution_count": 18,
   "source": [
    "pred_test = predict(test_x, test_y, parameters)"
   ],
   "outputs": [
    {
     "output_type": "error",
     "ename": "NameError",
     "evalue": "name 'predict' is not defined",
     "traceback": [
      "\u001b[1;31m---------------------------------------------------------------------------\u001b[0m",
      "\u001b[1;31mNameError\u001b[0m                                 Traceback (most recent call last)",
      "\u001b[1;32m<ipython-input-18-3010f76e1731>\u001b[0m in \u001b[0;36m<module>\u001b[1;34m\u001b[0m\n\u001b[1;32m----> 1\u001b[1;33m \u001b[0mpred_test\u001b[0m \u001b[1;33m=\u001b[0m \u001b[0mpredict\u001b[0m\u001b[1;33m(\u001b[0m\u001b[0mtest_x\u001b[0m\u001b[1;33m,\u001b[0m \u001b[0mtest_y\u001b[0m\u001b[1;33m,\u001b[0m \u001b[0mparameters\u001b[0m\u001b[1;33m)\u001b[0m\u001b[1;33m\u001b[0m\u001b[1;33m\u001b[0m\u001b[0m\n\u001b[0m",
      "\u001b[1;31mNameError\u001b[0m: name 'predict' is not defined"
     ]
    }
   ],
   "metadata": {}
  },
  {
   "cell_type": "code",
   "execution_count": null,
   "source": [],
   "outputs": [],
   "metadata": {}
  }
 ],
 "metadata": {
  "orig_nbformat": 4,
  "language_info": {
   "name": "python",
   "version": "3.8.3",
   "mimetype": "text/x-python",
   "codemirror_mode": {
    "name": "ipython",
    "version": 3
   },
   "pygments_lexer": "ipython3",
   "nbconvert_exporter": "python",
   "file_extension": ".py"
  },
  "kernelspec": {
   "name": "python3",
   "display_name": "Python 3.8.3 64-bit ('base': conda)"
  },
  "interpreter": {
   "hash": "954a9c2e9513789b5c7cbabd9d0637439eb00491ddc4a9eca02d2d88811af44d"
  }
 },
 "nbformat": 4,
 "nbformat_minor": 2
}